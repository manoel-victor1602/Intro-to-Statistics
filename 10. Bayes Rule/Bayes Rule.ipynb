{
 "cells": [
  {
   "cell_type": "code",
   "execution_count": 2,
   "metadata": {},
   "outputs": [
    {
     "name": "stdout",
     "output_type": "stream",
     "text": [
      "Populating the interactive namespace from numpy and matplotlib\n"
     ]
    }
   ],
   "source": [
    "%pylab inline\n",
    "import matplotlib.pyplot as plt\n",
    "import pandas as pd\n",
    "import numpy as np\n",
    "import seaborn as sns"
   ]
  },
  {
   "cell_type": "markdown",
   "metadata": {},
   "source": [
    "# Cancer Test"
   ]
  },
  {
   "cell_type": "code",
   "execution_count": 3,
   "metadata": {
    "collapsed": true
   },
   "outputs": [],
   "source": [
    "P_cancer = 0.01\n",
    "P_notCancer = 1 - P_cancer\n",
    "\n",
    "P_positive_cancer = 0.9\n",
    "\n",
    "P_negative_notCancer = 0.9\n",
    "P_positive_notCancer = 1 - P_negative_notCancer"
   ]
  },
  {
   "cell_type": "markdown",
   "metadata": {},
   "source": [
    "# Prior and Posterior"
   ]
  },
  {
   "cell_type": "code",
   "execution_count": 4,
   "metadata": {},
   "outputs": [
    {
     "name": "stdout",
     "output_type": "stream",
     "text": [
      "0.009000000000000001\n",
      "0.09899999999999998\n"
     ]
    }
   ],
   "source": [
    "P_cancer_and_positive = (P_cancer * P_positive_cancer)\n",
    "print(P_cancer_and_positive)\n",
    "\n",
    "P_notCancer_and_positive = (P_notCancer * P_positive_notCancer)\n",
    "print(P_notCancer_and_positive)"
   ]
  },
  {
   "cell_type": "markdown",
   "metadata": {},
   "source": [
    "# Normalizing 1"
   ]
  },
  {
   "cell_type": "code",
   "execution_count": 5,
   "metadata": {},
   "outputs": [
    {
     "name": "stdout",
     "output_type": "stream",
     "text": [
      "0.10799999999999998\n"
     ]
    }
   ],
   "source": [
    "P_positive = P_cancer_and_positive + P_notCancer_and_positive\n",
    "print(P_positive)"
   ]
  },
  {
   "cell_type": "markdown",
   "metadata": {},
   "source": [
    "# Normalizing 2"
   ]
  },
  {
   "cell_type": "code",
   "execution_count": 6,
   "metadata": {},
   "outputs": [
    {
     "data": {
      "text/plain": [
       "0.08333333333333336"
      ]
     },
     "execution_count": 6,
     "metadata": {},
     "output_type": "execute_result"
    }
   ],
   "source": [
    "P_cancer_positive = P_cancer_and_positive / P_positive\n",
    "P_cancer_positive"
   ]
  },
  {
   "cell_type": "markdown",
   "metadata": {},
   "source": [
    "# Normalizing 3"
   ]
  },
  {
   "cell_type": "code",
   "execution_count": 7,
   "metadata": {},
   "outputs": [
    {
     "data": {
      "text/plain": [
       "0.9166666666666666"
      ]
     },
     "execution_count": 7,
     "metadata": {},
     "output_type": "execute_result"
    }
   ],
   "source": [
    "P_notCancer_positive = P_notCancer_and_positive / P_positive\n",
    "P_notCancer_positive"
   ]
  },
  {
   "cell_type": "markdown",
   "metadata": {},
   "source": [
    "# Total Probability"
   ]
  },
  {
   "cell_type": "code",
   "execution_count": 8,
   "metadata": {},
   "outputs": [
    {
     "data": {
      "text/plain": [
       "1.0"
      ]
     },
     "execution_count": 8,
     "metadata": {},
     "output_type": "execute_result"
    }
   ],
   "source": [
    "P_cancer_positive + P_notCancer_positive"
   ]
  },
  {
   "cell_type": "markdown",
   "metadata": {},
   "source": [
    "# Cancer Probabilities"
   ]
  },
  {
   "cell_type": "code",
   "execution_count": 9,
   "metadata": {},
   "outputs": [
    {
     "name": "stdout",
     "output_type": "stream",
     "text": [
      "0.99\n",
      "0.09999999999999998\n",
      "0.09999999999999998\n"
     ]
    }
   ],
   "source": [
    "P_notCancer = 1 - P_cancer\n",
    "P_negative_cancer = 1 - P_positive_cancer\n",
    "P_positive_notCancer = 1 - P_negative_notCancer\n",
    "\n",
    "print(P_notCancer)\n",
    "print(P_negative_cancer)\n",
    "print(P_positive_notCancer)"
   ]
  },
  {
   "cell_type": "markdown",
   "metadata": {},
   "source": [
    "# Probability Given Test"
   ]
  },
  {
   "cell_type": "code",
   "execution_count": 10,
   "metadata": {},
   "outputs": [
    {
     "name": "stdout",
     "output_type": "stream",
     "text": [
      "0.0009999999999999998\n",
      "0.891\n"
     ]
    }
   ],
   "source": [
    "P_cancer_and_negative = (P_cancer * P_negative_cancer)\n",
    "print(P_cancer_and_negative)\n",
    "\n",
    "P_notCancer_and_negative = (P_notCancer * P_negative_notCancer)\n",
    "print(P_notCancer_and_negative)"
   ]
  },
  {
   "cell_type": "markdown",
   "metadata": {},
   "source": [
    "# Normalizer"
   ]
  },
  {
   "cell_type": "code",
   "execution_count": 11,
   "metadata": {},
   "outputs": [
    {
     "data": {
      "text/plain": [
       "0.892"
      ]
     },
     "execution_count": 11,
     "metadata": {},
     "output_type": "execute_result"
    }
   ],
   "source": [
    "P_negative = P_cancer_and_negative + P_notCancer_and_negative\n",
    "P_negative"
   ]
  },
  {
   "cell_type": "markdown",
   "metadata": {},
   "source": [
    "# Normalizing Probability"
   ]
  },
  {
   "cell_type": "code",
   "execution_count": 12,
   "metadata": {},
   "outputs": [
    {
     "name": "stdout",
     "output_type": "stream",
     "text": [
      "0.0011210762331838563\n",
      "0.9988789237668162\n"
     ]
    }
   ],
   "source": [
    "P_cancer_negative = P_negative_cancer * P_cancer / P_negative\n",
    "P_notCancer_negative = P_negative_notCancer * P_notCancer / P_negative\n",
    "\n",
    "print(P_cancer_negative)\n",
    "print(P_notCancer_negative)"
   ]
  },
  {
   "cell_type": "markdown",
   "metadata": {},
   "source": [
    "# Disease Test 1"
   ]
  },
  {
   "cell_type": "code",
   "execution_count": 14,
   "metadata": {},
   "outputs": [],
   "source": [
    "P_cancer = 0.1\n",
    "P_positive_cancer = 0.9\n",
    "P_negative_notCancer = 0.5"
   ]
  },
  {
   "cell_type": "code",
   "execution_count": 15,
   "metadata": {},
   "outputs": [
    {
     "name": "stdout",
     "output_type": "stream",
     "text": [
      "0.9\n",
      "0.09999999999999998\n",
      "0.5\n"
     ]
    }
   ],
   "source": [
    "P_notCancer = 1 - P_cancer\n",
    "P_negative_cancer = 1 - P_positive_cancer\n",
    "P_positive_notCancer = 1 - P_negative_notCancer\n",
    "\n",
    "print(P_notCancer)\n",
    "print(P_negative_cancer)\n",
    "print(P_positive_notCancer)"
   ]
  },
  {
   "cell_type": "markdown",
   "metadata": {},
   "source": [
    "# Disease Test 2"
   ]
  },
  {
   "cell_type": "code",
   "execution_count": 21,
   "metadata": {},
   "outputs": [
    {
     "data": {
      "text/plain": [
       "0.009999999999999998"
      ]
     },
     "execution_count": 21,
     "metadata": {},
     "output_type": "execute_result"
    }
   ],
   "source": [
    "P_cancer_and_negative = P_cancer * P_negative_cancer\n",
    "P_cancer_and_negative"
   ]
  },
  {
   "cell_type": "markdown",
   "metadata": {},
   "source": [
    "# Disease Test 3"
   ]
  },
  {
   "cell_type": "code",
   "execution_count": 23,
   "metadata": {},
   "outputs": [
    {
     "data": {
      "text/plain": [
       "0.45"
      ]
     },
     "execution_count": 23,
     "metadata": {},
     "output_type": "execute_result"
    }
   ],
   "source": [
    "P_notCancer_and_negative = P_notCancer * P_negative_notCancer\n",
    "P_notCancer_and_negative"
   ]
  },
  {
   "cell_type": "markdown",
   "metadata": {},
   "source": [
    "# Disease Test 4"
   ]
  },
  {
   "cell_type": "code",
   "execution_count": 25,
   "metadata": {},
   "outputs": [
    {
     "data": {
      "text/plain": [
       "0.46"
      ]
     },
     "execution_count": 25,
     "metadata": {},
     "output_type": "execute_result"
    }
   ],
   "source": [
    "P_negative = P_cancer_and_negative + P_notCancer_and_negative\n",
    "P_negative"
   ]
  },
  {
   "cell_type": "markdown",
   "metadata": {},
   "source": [
    "# Disease Test 5"
   ]
  },
  {
   "cell_type": "code",
   "execution_count": 30,
   "metadata": {},
   "outputs": [
    {
     "name": "stdout",
     "output_type": "stream",
     "text": [
      "0.021739130434782605\n",
      "0.9782608695652174\n"
     ]
    }
   ],
   "source": [
    "P_cancer_negative = P_negative_cancer * P_cancer / P_negative\n",
    "print(P_cancer_negative)\n",
    "\n",
    "P_notCancer_negative = P_negative_notCancer * P_notCancer / P_negative\n",
    "print(P_notCancer_negative)"
   ]
  },
  {
   "cell_type": "markdown",
   "metadata": {},
   "source": [
    "# Disease Test 6"
   ]
  },
  {
   "cell_type": "code",
   "execution_count": 33,
   "metadata": {},
   "outputs": [
    {
     "name": "stdout",
     "output_type": "stream",
     "text": [
      "0.16666666666666669\n",
      "0.8333333333333333\n"
     ]
    }
   ],
   "source": [
    "P_cancer_and_positive = P_cancer * P_positive_cancer\n",
    "P_notCancer_and_positive = P_notCancer * P_positive_notCancer\n",
    "\n",
    "P_positive = P_cancer_and_positive + P_notCancer_and_positive\n",
    "\n",
    "P_cancer_positive = P_positive_cancer * P_cancer / P_positive\n",
    "P_notCancer_positive = P_positive_notCancer * P_notCancer / P_positive\n",
    "\n",
    "print(P_cancer_positive)\n",
    "print(P_notCancer_positive)"
   ]
  },
  {
   "cell_type": "markdown",
   "metadata": {},
   "source": [
    "# Robot Sensing 1"
   ]
  },
  {
   "cell_type": "code",
   "execution_count": 35,
   "metadata": {
    "collapsed": true
   },
   "outputs": [],
   "source": [
    "P_r = P_g = 0.5\n",
    "P_sr_r = 0.8\n",
    "P_sg_g = 0.8\n",
    "\n",
    "P_sr_g = 1 - P_sg_g"
   ]
  },
  {
   "cell_type": "code",
   "execution_count": 37,
   "metadata": {},
   "outputs": [
    {
     "name": "stdout",
     "output_type": "stream",
     "text": [
      "0.8\n",
      "0.19999999999999996\n"
     ]
    }
   ],
   "source": [
    "P_sr_and_r = P_r * P_sr_r\n",
    "P_sr_and_g = P_g * P_sr_g\n",
    "\n",
    "P_sr = P_sr_and_r + P_sr_and_g\n",
    "\n",
    "P_r_sr = P_sr_and_r / P_sr\n",
    "P_g_sr = P_sr_and_g / P_sr\n",
    "\n",
    "print(P_r_sr)\n",
    "print(P_g_sr)"
   ]
  },
  {
   "cell_type": "markdown",
   "metadata": {},
   "source": [
    "# Robot Sensing 2"
   ]
  },
  {
   "cell_type": "code",
   "execution_count": 41,
   "metadata": {
    "collapsed": true
   },
   "outputs": [],
   "source": [
    "P_r = 0\n",
    "P_g = 1\n",
    "\n",
    "P_sr_r = 0.8\n",
    "P_sg_g = 0.8\n",
    "\n",
    "P_sr_g = 1 - P_sg_g"
   ]
  },
  {
   "cell_type": "code",
   "execution_count": 43,
   "metadata": {},
   "outputs": [
    {
     "name": "stdout",
     "output_type": "stream",
     "text": [
      "0.0\n",
      "1.0\n"
     ]
    }
   ],
   "source": [
    "P_sr_and_r = P_r * P_sr_r\n",
    "P_sr_and_g = P_g * P_sr_g\n",
    "\n",
    "P_sr = P_sr_and_r + P_sr_and_g\n",
    "\n",
    "P_r_sr = P_sr_and_r / P_sr\n",
    "P_g_sr = P_sr_and_g / P_sr\n",
    "\n",
    "print(P_r_sr)\n",
    "print(P_g_sr)"
   ]
  },
  {
   "cell_type": "markdown",
   "metadata": {},
   "source": [
    "# Robot Sensing 3"
   ]
  },
  {
   "cell_type": "code",
   "execution_count": 46,
   "metadata": {
    "collapsed": true
   },
   "outputs": [],
   "source": [
    "P_r = 0.5\n",
    "P_g = 0.5\n",
    "\n",
    "P_sr_r = 0.8\n",
    "P_sg_g = 0.5\n",
    "\n",
    "P_sr_g = 1 - P_sg_g"
   ]
  },
  {
   "cell_type": "code",
   "execution_count": 49,
   "metadata": {},
   "outputs": [
    {
     "name": "stdout",
     "output_type": "stream",
     "text": [
      "0.6153846153846154\n",
      "0.3846153846153846\n"
     ]
    }
   ],
   "source": [
    "P_sr_and_r = P_r * P_sr_r\n",
    "P_sr_and_g = P_g * P_sr_g\n",
    "\n",
    "P_sr = P_sr_and_r + P_sr_and_g\n",
    "\n",
    "P_r_sr = P_sr_and_r / P_sr\n",
    "P_g_sr = P_sr_and_g / P_sr\n",
    "\n",
    "print(P_r_sr)\n",
    "print(P_g_sr)"
   ]
  },
  {
   "cell_type": "markdown",
   "metadata": {},
   "source": [
    "# Robot Sensing 4"
   ]
  },
  {
   "cell_type": "code",
   "execution_count": 55,
   "metadata": {
    "collapsed": true
   },
   "outputs": [],
   "source": [
    "P_a = P_b = P_c = 1 / 3\n",
    "P_r_a = P_g_b = P_g_c = 0.9\n",
    "P_r_b = 1 - P_g_b\n",
    "P_r_c = 1 - P_g_c"
   ]
  },
  {
   "cell_type": "code",
   "execution_count": 58,
   "metadata": {},
   "outputs": [
    {
     "name": "stdout",
     "output_type": "stream",
     "text": [
      "0.3\n"
     ]
    }
   ],
   "source": [
    "P_r_and_a = P_a * P_r_a\n",
    "print(P_r_and_a)"
   ]
  },
  {
   "cell_type": "markdown",
   "metadata": {},
   "source": [
    "# Robot Sensing 5"
   ]
  },
  {
   "cell_type": "code",
   "execution_count": 60,
   "metadata": {},
   "outputs": [
    {
     "name": "stdout",
     "output_type": "stream",
     "text": [
      "0.033333333333333326\n"
     ]
    }
   ],
   "source": [
    "P_r_and_b = P_b * P_r_b\n",
    "print(P_r_and_b)"
   ]
  },
  {
   "cell_type": "markdown",
   "metadata": {},
   "source": [
    "# Robot Sensing 6"
   ]
  },
  {
   "cell_type": "code",
   "execution_count": 62,
   "metadata": {},
   "outputs": [
    {
     "name": "stdout",
     "output_type": "stream",
     "text": [
      "0.033333333333333326\n"
     ]
    }
   ],
   "source": [
    "P_r_and_c = P_c * P_r_c\n",
    "print(P_r_and_c)"
   ]
  },
  {
   "cell_type": "markdown",
   "metadata": {},
   "source": [
    "# Robot Sensing 7"
   ]
  },
  {
   "cell_type": "code",
   "execution_count": 64,
   "metadata": {},
   "outputs": [
    {
     "data": {
      "text/plain": [
       "0.36666666666666664"
      ]
     },
     "execution_count": 64,
     "metadata": {},
     "output_type": "execute_result"
    }
   ],
   "source": [
    "P_r = P_r_and_a + P_r_and_b + P_r_and_c\n",
    "P_r"
   ]
  },
  {
   "cell_type": "markdown",
   "metadata": {},
   "source": [
    "# Robot Sensing 8"
   ]
  },
  {
   "cell_type": "code",
   "execution_count": 66,
   "metadata": {},
   "outputs": [
    {
     "name": "stdout",
     "output_type": "stream",
     "text": [
      "0.8181818181818182\n",
      "0.0909090909090909\n",
      "0.0909090909090909\n"
     ]
    }
   ],
   "source": [
    "P_a_r = P_r_and_a / P_r\n",
    "P_b_r = P_r_and_b / P_r\n",
    "P_c_r = P_r_and_c / P_r\n",
    "\n",
    "print(P_a_r)\n",
    "print(P_b_r)\n",
    "print(P_c_r)"
   ]
  },
  {
   "cell_type": "markdown",
   "metadata": {},
   "source": [
    "# Sebastian At Home"
   ]
  },
  {
   "cell_type": "code",
   "execution_count": 67,
   "metadata": {},
   "outputs": [
    {
     "name": "stdout",
     "output_type": "stream",
     "text": [
      "0.021739130434782608\n"
     ]
    }
   ],
   "source": [
    "P_gone = 0.6\n",
    "P_home = 0.4\n",
    "\n",
    "P_rain_home = 0.01\n",
    "P_rain_gone = 0.3\n",
    "\n",
    "P_rain_and_home = P_home * P_rain_home\n",
    "P_rain_and_gone = P_gone * P_rain_gone\n",
    "\n",
    "P_rain = P_rain_and_home + P_rain_and_gone\n",
    "\n",
    "P_home_rain = P_rain_and_home / P_rain\n",
    "\n",
    "print(P_home_rain)"
   ]
  }
 ],
 "metadata": {
  "kernelspec": {
   "display_name": "Python 3",
   "language": "python",
   "name": "python3"
  },
  "language_info": {
   "codemirror_mode": {
    "name": "ipython",
    "version": 3
   },
   "file_extension": ".py",
   "mimetype": "text/x-python",
   "name": "python",
   "nbconvert_exporter": "python",
   "pygments_lexer": "ipython3",
   "version": "3.6.1"
  }
 },
 "nbformat": 4,
 "nbformat_minor": 2
}
