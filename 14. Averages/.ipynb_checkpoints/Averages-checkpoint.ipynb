{
 "cells": [
  {
   "cell_type": "code",
   "execution_count": 22,
   "metadata": {
    "collapsed": true
   },
   "outputs": [],
   "source": [
    "import numpy as np\n",
    "from collections import Counter\n",
    "\n",
    "def mean(v):\n",
    "    acm = 0\n",
    "    for num in v:\n",
    "        acm += num\n",
    "    return acm / len(v)\n",
    "\n",
    "def median(v):\n",
    "    pos = len(v) // 2\n",
    "    return v[pos]\n",
    "\n",
    "def mode(v):\n",
    "    cont = Counter()\n",
    "    for num in v:\n",
    "        cont[num] += 1\n",
    "    \n",
    "    maximum_value = 0\n",
    "    maximum_key = 0\n",
    "    \n",
    "    for key, value in cont.items():\n",
    "        if(value > maximum_value):\n",
    "            maximum_value = value\n",
    "            maximum_key = key\n",
    "            \n",
    "    return maximum_key"
   ]
  },
  {
   "cell_type": "markdown",
   "metadata": {},
   "source": [
    "# Mean 1"
   ]
  },
  {
   "cell_type": "code",
   "execution_count": 2,
   "metadata": {},
   "outputs": [
    {
     "name": "stdout",
     "output_type": "stream",
     "text": [
      "174.0\n",
      "174.0\n"
     ]
    }
   ],
   "source": [
    "house_prices = [190, 170, 165, 180, 165]\n",
    "print(np.mean(house_prices))\n",
    "print(mean(house_prices))"
   ]
  },
  {
   "cell_type": "markdown",
   "metadata": {},
   "source": [
    "# Mean 2"
   ]
  },
  {
   "cell_type": "code",
   "execution_count": 5,
   "metadata": {},
   "outputs": [
    {
     "name": "stdout",
     "output_type": "stream",
     "text": [
      "492.571428571\n",
      "492.57142857142856\n"
     ]
    }
   ],
   "source": [
    "house_prices = [125, 325, 180, 160, 110, 148, 2400]\n",
    "print(np.mean(house_prices))\n",
    "print(mean(house_prices))"
   ]
  },
  {
   "cell_type": "markdown",
   "metadata": {},
   "source": [
    "# Median"
   ]
  },
  {
   "cell_type": "code",
   "execution_count": 6,
   "metadata": {},
   "outputs": [
    {
     "name": "stdout",
     "output_type": "stream",
     "text": [
      "160.0\n",
      "160\n"
     ]
    }
   ],
   "source": [
    "house_prices = [125, 325, 180, 160, 110, 148, 2400]\n",
    "house_prices.sort()\n",
    "print(np.median(house_prices))\n",
    "print(median(house_prices))"
   ]
  },
  {
   "cell_type": "markdown",
   "metadata": {},
   "source": [
    "# Mean Age"
   ]
  },
  {
   "cell_type": "code",
   "execution_count": 7,
   "metadata": {},
   "outputs": [
    {
     "name": "stdout",
     "output_type": "stream",
     "text": [
      "17.0\n",
      "17.0\n"
     ]
    }
   ],
   "source": [
    "ages = [4, 3, 32, 33, 4, 32, 3, 38, 4]\n",
    "print(np.mean(ages))\n",
    "print(mean(ages))"
   ]
  },
  {
   "cell_type": "markdown",
   "metadata": {},
   "source": [
    "# Median Age 1"
   ]
  },
  {
   "cell_type": "code",
   "execution_count": 8,
   "metadata": {},
   "outputs": [
    {
     "name": "stdout",
     "output_type": "stream",
     "text": [
      "4.0\n",
      "4\n"
     ]
    }
   ],
   "source": [
    "ages = [4, 3, 32, 33, 4, 32, 3, 38, 4]\n",
    "ages.sort()\n",
    "print(np.median(ages))\n",
    "print(median(ages))"
   ]
  },
  {
   "cell_type": "markdown",
   "metadata": {},
   "source": [
    "# Median Age 2"
   ]
  },
  {
   "cell_type": "code",
   "execution_count": 9,
   "metadata": {},
   "outputs": [
    {
     "name": "stdout",
     "output_type": "stream",
     "text": [
      "32.0\n",
      "32\n"
     ]
    }
   ],
   "source": [
    "ages = [4, 3, 32, 33, 4, 32, 3, 38, 4, 35, 36]\n",
    "ages.sort()\n",
    "print(np.median(ages))\n",
    "print(median(ages))"
   ]
  },
  {
   "cell_type": "markdown",
   "metadata": {},
   "source": [
    "# Mode"
   ]
  },
  {
   "cell_type": "code",
   "execution_count": 23,
   "metadata": {},
   "outputs": [
    {
     "name": "stdout",
     "output_type": "stream",
     "text": [
      "ModeResult(mode=array([4]), count=array([3]))\n",
      "4\n"
     ]
    }
   ],
   "source": [
    "from scipy import stats\n",
    "\n",
    "ages = [4, 3, 32, 33, 4, 32, 3, 38, 4, 35, 36]\n",
    "print(stats.mode(ages))\n",
    "print(mode(ages))"
   ]
  },
  {
   "cell_type": "markdown",
   "metadata": {},
   "source": [
    "# Three Averages 1"
   ]
  },
  {
   "cell_type": "code",
   "execution_count": 24,
   "metadata": {},
   "outputs": [
    {
     "name": "stdout",
     "output_type": "stream",
     "text": [
      "38.0\n",
      "9.0\n",
      "ModeResult(mode=array([9]), count=array([4]))\n",
      "----------\n",
      "38.0\n",
      "9\n",
      "9\n"
     ]
    }
   ],
   "source": [
    "numbers = [5, 9, 100, 9, 97, 6, 9, 98, 9]\n",
    "numbers.sort()\n",
    "\n",
    "print(np.mean(numbers))\n",
    "print(np.median(numbers))\n",
    "print(stats.mode(numbers))\n",
    "print('----------')\n",
    "print(mean(numbers))\n",
    "print(median(numbers))\n",
    "print(mode(numbers))"
   ]
  },
  {
   "cell_type": "markdown",
   "metadata": {},
   "source": [
    "# Three Averages 2"
   ]
  },
  {
   "cell_type": "code",
   "execution_count": 25,
   "metadata": {},
   "outputs": [
    {
     "name": "stdout",
     "output_type": "stream",
     "text": [
      "5.0\n",
      "3.5\n",
      "ModeResult(mode=array([9]), count=array([3]))\n",
      "----------\n",
      "5.0\n",
      "4\n",
      "9\n"
     ]
    }
   ],
   "source": [
    "numbers = [3, 9, 3, 8, 2, 9, 1, 9, 2, 4]\n",
    "numbers.sort()\n",
    "\n",
    "print(np.mean(numbers))\n",
    "print(np.median(numbers))\n",
    "print(stats.mode(numbers))\n",
    "print('----------')\n",
    "print(mean(numbers))\n",
    "print(median(numbers))\n",
    "print(mode(numbers))"
   ]
  }
 ],
 "metadata": {
  "kernelspec": {
   "display_name": "Python 3",
   "language": "python",
   "name": "python3"
  },
  "language_info": {
   "codemirror_mode": {
    "name": "ipython",
    "version": 3
   },
   "file_extension": ".py",
   "mimetype": "text/x-python",
   "name": "python",
   "nbconvert_exporter": "python",
   "pygments_lexer": "ipython3",
   "version": "3.6.1"
  }
 },
 "nbformat": 4,
 "nbformat_minor": 2
}
