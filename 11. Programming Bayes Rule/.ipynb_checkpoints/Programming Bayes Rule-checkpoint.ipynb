{
 "cells": [
  {
   "cell_type": "markdown",
   "metadata": {},
   "source": [
    "# Printing Number"
   ]
  },
  {
   "cell_type": "code",
   "execution_count": 1,
   "metadata": {},
   "outputs": [
    {
     "name": "stdout",
     "output_type": "stream",
     "text": [
      "0.3\n"
     ]
    }
   ],
   "source": [
    "print(0.3)"
   ]
  },
  {
   "cell_type": "markdown",
   "metadata": {},
   "source": [
    "# Functions"
   ]
  },
  {
   "cell_type": "code",
   "execution_count": 2,
   "metadata": {},
   "outputs": [
    {
     "name": "stdout",
     "output_type": "stream",
     "text": [
      "0.3\n"
     ]
    }
   ],
   "source": [
    "def f(p):\n",
    "    return p\n",
    "\n",
    "print(f(0.3))"
   ]
  },
  {
   "cell_type": "markdown",
   "metadata": {},
   "source": [
    "# Complement"
   ]
  },
  {
   "cell_type": "code",
   "execution_count": 3,
   "metadata": {},
   "outputs": [
    {
     "name": "stdout",
     "output_type": "stream",
     "text": [
      "0.7\n"
     ]
    }
   ],
   "source": [
    "def f(p):\n",
    "    return 1 - p\n",
    "print(f(0.3))"
   ]
  },
  {
   "cell_type": "markdown",
   "metadata": {},
   "source": [
    "# Two Flips"
   ]
  },
  {
   "cell_type": "code",
   "execution_count": 4,
   "metadata": {},
   "outputs": [
    {
     "name": "stdout",
     "output_type": "stream",
     "text": [
      "0.25\n"
     ]
    }
   ],
   "source": [
    "def f(p):\n",
    "    return p * p\n",
    "\n",
    "print(f(0.5))"
   ]
  },
  {
   "cell_type": "markdown",
   "metadata": {},
   "source": [
    "# Three Flips"
   ]
  },
  {
   "cell_type": "code",
   "execution_count": 5,
   "metadata": {},
   "outputs": [
    {
     "name": "stdout",
     "output_type": "stream",
     "text": [
      "0.375\n"
     ]
    }
   ],
   "source": [
    "def f(p):\n",
    "    notP = 1 - p\n",
    "    \n",
    "    return (p * notP * notP) * 3\n",
    "\n",
    "print(f(0.5))"
   ]
  },
  {
   "cell_type": "markdown",
   "metadata": {},
   "source": [
    "# Flip Two Coins"
   ]
  },
  {
   "cell_type": "code",
   "execution_count": 7,
   "metadata": {},
   "outputs": [
    {
     "name": "stdout",
     "output_type": "stream",
     "text": [
      "0.25\n"
     ]
    }
   ],
   "source": [
    "def f(p1, p2):\n",
    "    return p1 * p2\n",
    "\n",
    "print(f(0.5,0.5))"
   ]
  },
  {
   "cell_type": "markdown",
   "metadata": {},
   "source": [
    "# Flip One of Two"
   ]
  },
  {
   "cell_type": "code",
   "execution_count": 9,
   "metadata": {},
   "outputs": [
    {
     "data": {
      "text/plain": [
       "0.78"
      ]
     },
     "execution_count": 9,
     "metadata": {},
     "output_type": "execute_result"
    }
   ],
   "source": [
    "p0 = 0.3\n",
    "p1 = 0.5\n",
    "p2 = 0.9\n",
    "\n",
    "P_c1 = p0\n",
    "P_c2 = 1 - p0\n",
    "\n",
    "P_h_c1 = p1\n",
    "P_h_c2 = p2\n",
    "\n",
    "P_h = P_c1 * P_h_c1 + P_c2 * P_h_c2\n",
    "P_h"
   ]
  },
  {
   "cell_type": "markdown",
   "metadata": {},
   "source": [
    "# Program Flipping"
   ]
  },
  {
   "cell_type": "code",
   "execution_count": 11,
   "metadata": {},
   "outputs": [
    {
     "name": "stdout",
     "output_type": "stream",
     "text": [
      "0.78\n"
     ]
    }
   ],
   "source": [
    "def f(p0, p1, p2):\n",
    "    \n",
    "    P_c1 = p0\n",
    "    P_c2 = 1 - p0\n",
    "    \n",
    "    P_h_c1 = p1\n",
    "    P_h_c2 = p2\n",
    "    \n",
    "    return (P_c1 * P_h_c1) + (P_c2 * P_h_c2)\n",
    "\n",
    "print(f(0.3, 0.5, 0.9))"
   ]
  },
  {
   "cell_type": "markdown",
   "metadata": {},
   "source": [
    "# Cancer Example 1 / Total"
   ]
  },
  {
   "cell_type": "code",
   "execution_count": 13,
   "metadata": {},
   "outputs": [
    {
     "name": "stdout",
     "output_type": "stream",
     "text": [
      "0.26999999999999996\n"
     ]
    }
   ],
   "source": [
    "def cancer(p0, p1, p2):\n",
    "    \n",
    "    P_cancer = p0\n",
    "    P_notCancer = 1 - P_cancer\n",
    "    \n",
    "    P_positive_cancer = p1\n",
    "    P_negative_notCancer = p2\n",
    "    \n",
    "    P_positive_notCancer = 1 - P_negative_notCancer\n",
    "    \n",
    "    P_positive = P_cancer * P_positive_cancer + P_notCancer * P_positive_notCancer\n",
    "    \n",
    "    return P_positive\n",
    "    \n",
    "print(cancer(0.1, 0.9, 0.8))"
   ]
  },
  {
   "cell_type": "markdown",
   "metadata": {},
   "source": [
    "# Cancer Example 2"
   ]
  },
  {
   "cell_type": "code",
   "execution_count": 15,
   "metadata": {},
   "outputs": [
    {
     "data": {
      "text/plain": [
       "0.3333333333333334"
      ]
     },
     "execution_count": 15,
     "metadata": {},
     "output_type": "execute_result"
    }
   ],
   "source": [
    "P_cancer = 0.1\n",
    "P_notCancer = 1 - P_cancer\n",
    "\n",
    "P_positive_cancer = 0.9\n",
    "P_negative_notCancer = 0.8\n",
    "P_positive_notCancer = 1 - P_negative_notCancer\n",
    "\n",
    "P_positive = P_cancer * P_positive_cancer + \\\n",
    "             P_notCancer * P_positive_notCancer\n",
    "\n",
    "P_cancer_positive = P_positive_cancer * P_cancer / P_positive\n",
    "P_cancer_positive"
   ]
  },
  {
   "cell_type": "markdown",
   "metadata": {},
   "source": [
    "# Program Bayes Rule"
   ]
  },
  {
   "cell_type": "code",
   "execution_count": 16,
   "metadata": {
    "collapsed": true
   },
   "outputs": [],
   "source": [
    "def f(p0,p1,p2):\n",
    "#Insert your code here\n",
    "\n",
    "    P_cancer = p0\n",
    "    P_notCancer = 1 - P_cancer\n",
    "    \n",
    "    P_positive_cancer = p1\n",
    "    P_negative_notCancer = p2\n",
    "    P_positive_notCancer = 1 - P_negative_notCancer\n",
    "    \n",
    "    P_positive = P_cancer * P_positive_cancer + \\\n",
    "                 P_notCancer * P_positive_notCancer\n",
    "    \n",
    "    P_cancer_positive = P_positive_cancer * P_cancer / P_positive\n",
    "    return P_cancer_positive"
   ]
  },
  {
   "cell_type": "markdown",
   "metadata": {},
   "source": [
    "# Program Bayes Rule 2"
   ]
  },
  {
   "cell_type": "code",
   "execution_count": null,
   "metadata": {
    "collapsed": true
   },
   "outputs": [],
   "source": [
    "def f(p0,p1,p2):\n",
    "#Insert your code here\n",
    "\n",
    "    P_cancer = p0\n",
    "    P_notCancer = 1 - P_cancer\n",
    "    \n",
    "    P_negative_cancer = 1 - p1\n",
    "    \n",
    "    P_negative_notCancer = p2\n",
    "    \n",
    "    P_negative = P_cancer * P_negative_cancer + \\\n",
    "                 P_notCancer * P_negative_notCancer\n",
    "    \n",
    "    P_cancer_negative = P_negative_cancer * P_cancer / P_negative\n",
    "    return P_cancer_negative"
   ]
  }
 ],
 "metadata": {
  "kernelspec": {
   "display_name": "Python 3",
   "language": "python",
   "name": "python3"
  },
  "language_info": {
   "codemirror_mode": {
    "name": "ipython",
    "version": 3
   },
   "file_extension": ".py",
   "mimetype": "text/x-python",
   "name": "python",
   "nbconvert_exporter": "python",
   "pygments_lexer": "ipython3",
   "version": "3.6.1"
  }
 },
 "nbformat": 4,
 "nbformat_minor": 2
}
