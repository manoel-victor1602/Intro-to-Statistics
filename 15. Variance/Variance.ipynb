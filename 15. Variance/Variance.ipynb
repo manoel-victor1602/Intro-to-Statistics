{
 "cells": [
  {
   "cell_type": "code",
   "execution_count": 1,
   "metadata": {
    "collapsed": true
   },
   "outputs": [],
   "source": [
    "import numpy as np\n",
    "\n",
    "def mean(v):\n",
    "    acm = 0\n",
    "    for num in v:\n",
    "        acm += num\n",
    "    return acm / len(v)"
   ]
  },
  {
   "cell_type": "markdown",
   "metadata": {},
   "source": [
    "# Ages"
   ]
  },
  {
   "cell_type": "code",
   "execution_count": 3,
   "metadata": {},
   "outputs": [
    {
     "name": "stdout",
     "output_type": "stream",
     "text": [
      "18.0\n",
      "18.0\n",
      "\n",
      "18.0\n",
      "18.0\n"
     ]
    }
   ],
   "source": [
    "friends = [17, 19, 18, 17, 19]\n",
    "family = [7, 38, 4, 23, 18]\n",
    "\n",
    "print(np.mean(friends))\n",
    "print(mean(friends))\n",
    "print()\n",
    "print(np.mean(family))\n",
    "print(mean(family))"
   ]
  },
  {
   "cell_type": "markdown",
   "metadata": {},
   "source": [
    "# Variances 1"
   ]
  },
  {
   "cell_type": "code",
   "execution_count": 14,
   "metadata": {
    "collapsed": true
   },
   "outputs": [],
   "source": [
    "def variance(v):\n",
    "    mean_value = np.mean(v)\n",
    "    aux = []\n",
    "    for num in v:\n",
    "        aux.append(num - mean_value)\n",
    "    aux = np.power(aux, 2)\n",
    "    return np.sum(aux) / len(aux)"
   ]
  },
  {
   "cell_type": "code",
   "execution_count": 19,
   "metadata": {},
   "outputs": [
    {
     "name": "stdout",
     "output_type": "stream",
     "text": [
      "0.8\n",
      "0.8\n"
     ]
    }
   ],
   "source": [
    "print(variance(friends))\n",
    "print(np.var(friends))"
   ]
  },
  {
   "cell_type": "markdown",
   "metadata": {},
   "source": [
    "# Variances 2"
   ]
  },
  {
   "cell_type": "code",
   "execution_count": 21,
   "metadata": {},
   "outputs": [
    {
     "name": "stdout",
     "output_type": "stream",
     "text": [
      "148.4\n",
      "148.4\n"
     ]
    }
   ],
   "source": [
    "print(variance(family))\n",
    "print(np.var(family))"
   ]
  },
  {
   "cell_type": "markdown",
   "metadata": {},
   "source": [
    "# Standard Deviation 1"
   ]
  },
  {
   "cell_type": "code",
   "execution_count": 34,
   "metadata": {},
   "outputs": [],
   "source": [
    "from math import sqrt\n",
    "def std(v):\n",
    "    return sqrt(variance(v))\n",
    "\n",
    "def describe(v):\n",
    "    print(mean(data))\n",
    "    print(variance(data))\n",
    "    print(std(data))\n",
    "    print()\n",
    "    print(np.mean(data))\n",
    "    print(np.var(data))\n",
    "    print(np.std(data))"
   ]
  },
  {
   "cell_type": "code",
   "execution_count": 36,
   "metadata": {},
   "outputs": [
    {
     "name": "stdout",
     "output_type": "stream",
     "text": [
      "5.0\n",
      "2.0\n",
      "1.4142135623730951\n",
      "\n",
      "5.0\n",
      "2.0\n",
      "1.41421356237\n"
     ]
    }
   ],
   "source": [
    "data = [3,4,5,6,7]\n",
    "\n",
    "describe(data)"
   ]
  },
  {
   "cell_type": "markdown",
   "metadata": {},
   "source": [
    "# Summarize 1"
   ]
  },
  {
   "cell_type": "code",
   "execution_count": 38,
   "metadata": {},
   "outputs": [
    {
     "name": "stdout",
     "output_type": "stream",
     "text": [
      "10.0\n",
      "2.0\n",
      "1.4142135623730951\n",
      "\n",
      "10.0\n",
      "2.0\n",
      "1.41421356237\n"
     ]
    }
   ],
   "source": [
    "data = [8, 9, 10, 11, 12]\n",
    "describe(data)"
   ]
  },
  {
   "cell_type": "markdown",
   "metadata": {},
   "source": [
    "# Summarize 2"
   ]
  },
  {
   "cell_type": "code",
   "execution_count": 39,
   "metadata": {},
   "outputs": [
    {
     "name": "stdout",
     "output_type": "stream",
     "text": [
      "25.0\n",
      "50.0\n",
      "7.0710678118654755\n",
      "\n",
      "25.0\n",
      "50.0\n",
      "7.07106781187\n"
     ]
    }
   ],
   "source": [
    "data = [15, 20, 25, 30, 35]\n",
    "describe(data)"
   ]
  },
  {
   "cell_type": "markdown",
   "metadata": {},
   "source": [
    "# Summarize 3"
   ]
  },
  {
   "cell_type": "code",
   "execution_count": 40,
   "metadata": {},
   "outputs": [
    {
     "name": "stdout",
     "output_type": "stream",
     "text": [
      "3.0\n",
      "0.0\n",
      "0.0\n",
      "\n",
      "3.0\n",
      "0.0\n",
      "0.0\n"
     ]
    }
   ],
   "source": [
    "data = [3, 3, 3, 3, 3]\n",
    "describe(data)"
   ]
  },
  {
   "cell_type": "markdown",
   "metadata": {},
   "source": [
    "# Summarize 4"
   ]
  },
  {
   "cell_type": "code",
   "execution_count": 41,
   "metadata": {},
   "outputs": [
    {
     "name": "stdout",
     "output_type": "stream",
     "text": [
      "4.0\n",
      "0.0\n",
      "0.0\n",
      "\n",
      "4.0\n",
      "0.0\n",
      "0.0\n"
     ]
    }
   ],
   "source": [
    "data = [4]\n",
    "describe(data)"
   ]
  }
 ],
 "metadata": {
  "kernelspec": {
   "display_name": "Python 3",
   "language": "python",
   "name": "python3"
  },
  "language_info": {
   "codemirror_mode": {
    "name": "ipython",
    "version": 3
   },
   "file_extension": ".py",
   "mimetype": "text/x-python",
   "name": "python",
   "nbconvert_exporter": "python",
   "pygments_lexer": "ipython3",
   "version": "3.6.1"
  }
 },
 "nbformat": 4,
 "nbformat_minor": 2
}
